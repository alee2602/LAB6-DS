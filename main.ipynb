{
 "cells": [
  {
   "cell_type": "markdown",
   "id": "9ee8e475",
   "metadata": {},
   "source": [
    "# Laboratorio 6 - Data Science\n",
    "\n",
    "* Mónica Salvatierra 22249\n",
    "* Derek Arreaga 22537\n",
    "\n",
    "Link del repositorio: https://github.com/alee2602/LAB6-DS\n",
    "\n"
   ]
  },
  {
   "cell_type": "markdown",
   "id": "bf909812",
   "metadata": {},
   "source": [
    "**Importación de Librerías**"
   ]
  },
  {
   "cell_type": "code",
   "execution_count": 10,
   "id": "68df6fc9",
   "metadata": {},
   "outputs": [],
   "source": [
    "import tensorflow as tf\n",
    "from tensorflow.keras.preprocessing import sequence\n",
    "from tensorflow.keras.models import Model\n",
    "from tensorflow.keras.layers import Embedding, LSTM, Bidirectional, Dropout, Dense, Concatenate, SpatialDropout1D\n",
    "from tensorflow.keras.layers import LSTM\n",
    "from tensorflow.keras.datasets import imdb\n",
    "from tensorflow.keras.optimizers import Adam\n",
    "from tensorflow.keras.callbacks import EarlyStopping, ModelCheckpoint, ReduceLROnPlateau\n",
    "from sklearn.preprocessing import StandardScaler\n",
    "from sklearn.metrics import accuracy_score, precision_score, recall_score, f1_score\n",
    "import matplotlib.pyplot as plt\n",
    "\n",
    "import numpy as np\n",
    "from collections import Counter\n",
    "\n"
   ]
  },
  {
   "cell_type": "markdown",
   "id": "f3e7c486",
   "metadata": {},
   "source": [
    "### **Importación de Datos**"
   ]
  },
  {
   "cell_type": "code",
   "execution_count": 3,
   "id": "3c9cb721",
   "metadata": {},
   "outputs": [
    {
     "name": "stdout",
     "output_type": "stream",
     "text": [
      "Cargando los datos...\n",
      "Downloading data from https://storage.googleapis.com/tensorflow/tf-keras-datasets/imdb.npz\n"
     ]
    },
    {
     "name": "stdout",
     "output_type": "stream",
     "text": [
      "\u001b[1m17464789/17464789\u001b[0m \u001b[32m━━━━━━━━━━━━━━━━━━━━\u001b[0m\u001b[37m\u001b[0m \u001b[1m0s\u001b[0m 0us/step\n"
     ]
    }
   ],
   "source": [
    "print('Cargando los datos...')\n",
    "(X_train, y_train), (X_test, y_test) = imdb.load_data(num_words=50000)"
   ]
  },
  {
   "cell_type": "code",
   "execution_count": 4,
   "id": "461fc2b6",
   "metadata": {},
   "outputs": [
    {
     "data": {
      "text/plain": [
       "[1,\n",
       " 14,\n",
       " 22,\n",
       " 16,\n",
       " 43,\n",
       " 530,\n",
       " 973,\n",
       " 1622,\n",
       " 1385,\n",
       " 65,\n",
       " 458,\n",
       " 4468,\n",
       " 66,\n",
       " 3941,\n",
       " 4,\n",
       " 173,\n",
       " 36,\n",
       " 256,\n",
       " 5,\n",
       " 25,\n",
       " 100,\n",
       " 43,\n",
       " 838,\n",
       " 112,\n",
       " 50,\n",
       " 670,\n",
       " 22665,\n",
       " 9,\n",
       " 35,\n",
       " 480,\n",
       " 284,\n",
       " 5,\n",
       " 150,\n",
       " 4,\n",
       " 172,\n",
       " 112,\n",
       " 167,\n",
       " 21631,\n",
       " 336,\n",
       " 385,\n",
       " 39,\n",
       " 4,\n",
       " 172,\n",
       " 4536,\n",
       " 1111,\n",
       " 17,\n",
       " 546,\n",
       " 38,\n",
       " 13,\n",
       " 447,\n",
       " 4,\n",
       " 192,\n",
       " 50,\n",
       " 16,\n",
       " 6,\n",
       " 147,\n",
       " 2025,\n",
       " 19,\n",
       " 14,\n",
       " 22,\n",
       " 4,\n",
       " 1920,\n",
       " 4613,\n",
       " 469,\n",
       " 4,\n",
       " 22,\n",
       " 71,\n",
       " 87,\n",
       " 12,\n",
       " 16,\n",
       " 43,\n",
       " 530,\n",
       " 38,\n",
       " 76,\n",
       " 15,\n",
       " 13,\n",
       " 1247,\n",
       " 4,\n",
       " 22,\n",
       " 17,\n",
       " 515,\n",
       " 17,\n",
       " 12,\n",
       " 16,\n",
       " 626,\n",
       " 18,\n",
       " 19193,\n",
       " 5,\n",
       " 62,\n",
       " 386,\n",
       " 12,\n",
       " 8,\n",
       " 316,\n",
       " 8,\n",
       " 106,\n",
       " 5,\n",
       " 4,\n",
       " 2223,\n",
       " 5244,\n",
       " 16,\n",
       " 480,\n",
       " 66,\n",
       " 3785,\n",
       " 33,\n",
       " 4,\n",
       " 130,\n",
       " 12,\n",
       " 16,\n",
       " 38,\n",
       " 619,\n",
       " 5,\n",
       " 25,\n",
       " 124,\n",
       " 51,\n",
       " 36,\n",
       " 135,\n",
       " 48,\n",
       " 25,\n",
       " 1415,\n",
       " 33,\n",
       " 6,\n",
       " 22,\n",
       " 12,\n",
       " 215,\n",
       " 28,\n",
       " 77,\n",
       " 52,\n",
       " 5,\n",
       " 14,\n",
       " 407,\n",
       " 16,\n",
       " 82,\n",
       " 10311,\n",
       " 8,\n",
       " 4,\n",
       " 107,\n",
       " 117,\n",
       " 5952,\n",
       " 15,\n",
       " 256,\n",
       " 4,\n",
       " 31050,\n",
       " 7,\n",
       " 3766,\n",
       " 5,\n",
       " 723,\n",
       " 36,\n",
       " 71,\n",
       " 43,\n",
       " 530,\n",
       " 476,\n",
       " 26,\n",
       " 400,\n",
       " 317,\n",
       " 46,\n",
       " 7,\n",
       " 4,\n",
       " 12118,\n",
       " 1029,\n",
       " 13,\n",
       " 104,\n",
       " 88,\n",
       " 4,\n",
       " 381,\n",
       " 15,\n",
       " 297,\n",
       " 98,\n",
       " 32,\n",
       " 2071,\n",
       " 56,\n",
       " 26,\n",
       " 141,\n",
       " 6,\n",
       " 194,\n",
       " 7486,\n",
       " 18,\n",
       " 4,\n",
       " 226,\n",
       " 22,\n",
       " 21,\n",
       " 134,\n",
       " 476,\n",
       " 26,\n",
       " 480,\n",
       " 5,\n",
       " 144,\n",
       " 30,\n",
       " 5535,\n",
       " 18,\n",
       " 51,\n",
       " 36,\n",
       " 28,\n",
       " 224,\n",
       " 92,\n",
       " 25,\n",
       " 104,\n",
       " 4,\n",
       " 226,\n",
       " 65,\n",
       " 16,\n",
       " 38,\n",
       " 1334,\n",
       " 88,\n",
       " 12,\n",
       " 16,\n",
       " 283,\n",
       " 5,\n",
       " 16,\n",
       " 4472,\n",
       " 113,\n",
       " 103,\n",
       " 32,\n",
       " 15,\n",
       " 16,\n",
       " 5345,\n",
       " 19,\n",
       " 178,\n",
       " 32]"
      ]
     },
     "execution_count": 4,
     "metadata": {},
     "output_type": "execute_result"
    }
   ],
   "source": [
    "X_train[0]"
   ]
  },
  {
   "cell_type": "code",
   "execution_count": 5,
   "id": "07a1736e",
   "metadata": {},
   "outputs": [
    {
     "data": {
      "text/plain": [
       "1"
      ]
     },
     "execution_count": 5,
     "metadata": {},
     "output_type": "execute_result"
    }
   ],
   "source": [
    "y_train[0]"
   ]
  },
  {
   "cell_type": "code",
   "execution_count": 31,
   "id": "719abdfc",
   "metadata": {},
   "outputs": [
    {
     "name": "stdout",
     "output_type": "stream",
     "text": [
      "Promedio de largo de reseñas: 80.0\n",
      "Largo de reseña más corta: 80\n"
     ]
    }
   ],
   "source": [
    "# Promedio de largo de reseñas\n",
    "total_length = 0\n",
    "for x in X_train:\n",
    "    total_length += len(x)\n",
    "print(f'Promedio de largo de reseñas: {total_length/len(X_train)}')\n",
    "\n",
    "# Reseña más corta\n",
    "min_len = len(X_train[0])\n",
    "for x in X_train:\n",
    "    if len(x) < min_len:\n",
    "        min_len = len(x)\n",
    "print(f'Largo de reseña más corta: {min_len}')"
   ]
  },
  {
   "cell_type": "markdown",
   "id": "543cab5d",
   "metadata": {},
   "source": [
    "### **Preprocesamiento**"
   ]
  },
  {
   "cell_type": "markdown",
   "id": "4f54018c",
   "metadata": {},
   "source": [
    "Limitar reseñas para lograr una longitud uniforme"
   ]
  },
  {
   "cell_type": "code",
   "execution_count": 6,
   "id": "b7d34cb2",
   "metadata": {},
   "outputs": [],
   "source": [
    "maxlen = 80\n",
    "X_train = sequence.pad_sequences(X_train, maxlen = maxlen)\n",
    "X_test = sequence.pad_sequences(X_test, maxlen = maxlen)"
   ]
  },
  {
   "cell_type": "markdown",
   "id": "05dc9e5d",
   "metadata": {},
   "source": [
    "Extracción de ``features`` adicionales:\n",
    "* Longitud de la crítica\n",
    "* Proporción de palabras positivas/negativas"
   ]
  },
  {
   "cell_type": "code",
   "execution_count": 28,
   "id": "828f4119",
   "metadata": {},
   "outputs": [
    {
     "name": "stdout",
     "output_type": "stream",
     "text": [
      "Extrayendo características de los datos codificados...\n",
      "Características extraídas correctamente.\n"
     ]
    }
   ],
   "source": [
    "\n",
    "# Obtener el diccionario de palabras de IMDB\n",
    "word_index = imdb.get_word_index()\n",
    "\n",
    "# Diccionarios de palabras positivas y negativas (puedes expandirlos)\n",
    "positive_words = {'good', 'great', 'awesome', 'excellent', 'fantastic', 'wonderful', 'love', 'amazing', 'brilliant', 'enjoyable'}\n",
    "negative_words = {'bad', 'terrible', 'awful', 'horrible', 'disappointing', 'poor', 'hate', 'worst', 'boring', 'dreadful', 'fuck', 'shit', 'idiot', 'stupid', 'mediocre', 'boring', 'bored', 'asleep', 'waste', 'senseless', 'suck', 'sucks'}\n",
    "\n",
    "# Mapear palabras positivas/negativas a sus índices\n",
    "positive_indices = {word_index.get(word) + 3 for word in positive_words if word_index.get(word) is not None}\n",
    "negative_indices = {word_index.get(word) + 3 for word in negative_words if word_index.get(word) is not None}\n",
    "\n",
    "# Función para extraer características de una reseña codificada\n",
    "def extract_features_from_encoded(encoded_reviews):\n",
    "    features = []\n",
    "    for review in encoded_reviews:\n",
    "        # Filtrar tokens no nulos (ignorar padding)\n",
    "        valid_tokens = [token for token in review if token > 0]\n",
    "        \n",
    "        review_length = len(valid_tokens)\n",
    "        \n",
    "        #Proporción de palabras positivas y negativas\n",
    "        token_counts = Counter(valid_tokens)\n",
    "        pos_count = sum(token_counts[idx] for idx in positive_indices if idx in token_counts)\n",
    "        neg_count = sum(token_counts[idx] for idx in negative_indices if idx in token_counts)\n",
    "        total_tokens = review_length if review_length > 0 else 1  \n",
    "        pos_ratio = pos_count / total_tokens\n",
    "        neg_ratio = neg_count / total_tokens\n",
    "        \n",
    "        unique_tokens = len(set(valid_tokens))\n",
    "        \n",
    "        repeated_tokens = sum(count for count in token_counts.values() if count > 1)\n",
    "        repeat_ratio = repeated_tokens / total_tokens if total_tokens > 0 else 0\n",
    "        \n",
    "        rare_threshold = 50000 // 2  \n",
    "        rare_count = sum(1 for token in valid_tokens if token > rare_threshold)\n",
    "        rare_ratio = rare_count / total_tokens if total_tokens > 0 else 0\n",
    "        \n",
    "        features.append({\n",
    "            'length': review_length,\n",
    "            'positive_ratio': pos_ratio,\n",
    "            'negative_ratio': neg_ratio,\n",
    "            'unique_tokens': unique_tokens,\n",
    "            'repeat_ratio': repeat_ratio,\n",
    "            'rare_ratio': rare_ratio\n",
    "        })\n",
    "    \n",
    "    return features\n",
    "\n",
    "# Extraer características para el conjunto de entrenamiento\n",
    "print('Extrayendo características de los datos codificados...')\n",
    "train_features = extract_features_from_encoded(X_train)\n",
    "\n",
    "# Convertir a un array\n",
    "feature_names = ['length', 'positive_ratio', 'negative_ratio', 'unique_tokens', 'repeat_ratio', 'rare_ratio']\n",
    "train_features_array = np.array([[f[name] for name in feature_names] for f in train_features])\n",
    "print('Características extraídas correctamente.')"
   ]
  },
  {
   "cell_type": "markdown",
   "id": "041ddf46",
   "metadata": {},
   "source": [
    "Mostrar las careacterísticas de la primera reseña"
   ]
  },
  {
   "cell_type": "code",
   "execution_count": 8,
   "id": "34234df3",
   "metadata": {},
   "outputs": [
    {
     "name": "stdout",
     "output_type": "stream",
     "text": [
      "{'length': 80, 'positive_ratio': 0.025, 'negative_ratio': 0.0, 'unique_tokens': 58, 'repeat_ratio': 0.4375, 'rare_ratio': 0.0125}\n",
      "La reseña es positiva.\n"
     ]
    }
   ],
   "source": [
    "print(train_features[0])\n",
    "\n",
    "if y_train[0] == 1:\n",
    "    print('La reseña es positiva.')\n",
    "else:\n",
    "    print('La reseña es negativa.')"
   ]
  },
  {
   "cell_type": "markdown",
   "id": "36a444a4",
   "metadata": {},
   "source": [
    "Estadísticas generales de las nuevas ``features``:"
   ]
  },
  {
   "cell_type": "code",
   "execution_count": 9,
   "id": "24b4ba5a",
   "metadata": {},
   "outputs": [
    {
     "name": "stdout",
     "output_type": "stream",
     "text": [
      "length: media=78.3894, std=6.7216\n",
      "positive_ratio: media=0.0084, std=0.0121\n",
      "negative_ratio: media=0.0056, std=0.0112\n",
      "unique_tokens: media=60.2248, std=6.2032\n",
      "repeat_ratio: media=0.3679, std=0.0811\n",
      "rare_ratio: media=0.0122, std=0.0155\n",
      "Procentaje de reseñas positivas: 50.00%\n",
      "Procentaje de reseñas negativas: 50.00%\n"
     ]
    }
   ],
   "source": [
    "\n",
    "for i, name in enumerate(feature_names):\n",
    "    print(f'{name}: media={np.mean(train_features_array[:, i]):.4f}, std={np.std(train_features_array[:, i]):.4f}')\n",
    "\n",
    "# Porcentaje de reseñas positivas y negativas\n",
    "positive_count = sum(y_train)\n",
    "negative_count = len(y_train) - positive_count\n",
    "print(f'Procentaje de reseñas positivas: {positive_count/len(y_train)*100:.2f}%')\n",
    "print(f'Procentaje de reseñas negativas: {negative_count/len(y_train)*100:.2f}%')"
   ]
  },
  {
   "cell_type": "markdown",
   "id": "3f44a33a",
   "metadata": {},
   "source": [
    "El vector de features captura señales globales del documento que complementan lo que aprende la LSTM a nivel secuencia: por ejemplo, longitud del texto, diversidad léxica aproximada, densidad de signos de exclamación o mayúsculas y otros indicadores de estilo/contenido. Estas variables ayudan a reducir ambigüedad en casos donde el patrón secuencial no es tan marcado (por ejemplo, reseñas cortas o muy ruidosas). "
   ]
  },
  {
   "cell_type": "markdown",
   "id": "c3a64e97",
   "metadata": {},
   "source": [
    "### **Modelo**"
   ]
  },
  {
   "cell_type": "markdown",
   "id": "d7e555ad",
   "metadata": {},
   "source": [
    "Modelo Original"
   ]
  },
  {
   "cell_type": "code",
   "execution_count": 20,
   "id": "c076b2fd",
   "metadata": {},
   "outputs": [
    {
     "name": "stdout",
     "output_type": "stream",
     "text": [
      "Epoch 1/20\n"
     ]
    },
    {
     "name": "stderr",
     "output_type": "stream",
     "text": [
      "c:\\Users\\Ale\\anaconda3\\Lib\\site-packages\\keras\\src\\layers\\core\\embedding.py:97: UserWarning: Argument `input_length` is deprecated. Just remove it.\n",
      "  warnings.warn(\n"
     ]
    },
    {
     "name": "stdout",
     "output_type": "stream",
     "text": [
      "\u001b[1m313/313\u001b[0m \u001b[32m━━━━━━━━━━━━━━━━━━━━\u001b[0m\u001b[37m\u001b[0m \u001b[1m40s\u001b[0m 114ms/step - accuracy: 0.7915 - loss: 0.4402 - val_accuracy: 0.8454 - val_loss: 0.3549\n",
      "Epoch 2/20\n",
      "\u001b[1m313/313\u001b[0m \u001b[32m━━━━━━━━━━━━━━━━━━━━\u001b[0m\u001b[37m\u001b[0m \u001b[1m37s\u001b[0m 119ms/step - accuracy: 0.9169 - loss: 0.2177 - val_accuracy: 0.8344 - val_loss: 0.4228\n",
      "Epoch 3/20\n",
      "\u001b[1m313/313\u001b[0m \u001b[32m━━━━━━━━━━━━━━━━━━━━\u001b[0m\u001b[37m\u001b[0m \u001b[1m37s\u001b[0m 118ms/step - accuracy: 0.9613 - loss: 0.1134 - val_accuracy: 0.8260 - val_loss: 0.4718\n",
      "Epoch 4/20\n",
      "\u001b[1m313/313\u001b[0m \u001b[32m━━━━━━━━━━━━━━━━━━━━\u001b[0m\u001b[37m\u001b[0m \u001b[1m36s\u001b[0m 114ms/step - accuracy: 0.9711 - loss: 0.0843 - val_accuracy: 0.8188 - val_loss: 0.7675\n",
      "Baseline -> Acc:0.839 Prec:0.829 Rec:0.855 F1:0.842\n"
     ]
    }
   ],
   "source": [
    "\n",
    "tf.random.set_seed(16); np.random.seed(16)\n",
    "vocab_size = vocab_size if 'vocab_size' in globals() else 50000\n",
    "\n",
    "inp = Input(shape=(maxlen,))\n",
    "z = Embedding(vocab_size, 128, input_length=maxlen, mask_zero=True)(inp)\n",
    "z = Bidirectional(LSTM(64))(z)\n",
    "z = Dense(1, activation='sigmoid')(z)\n",
    "baseline = Model(inp, z)\n",
    "baseline.compile(optimizer=Adam(1e-3), loss='binary_crossentropy', metrics=['accuracy'])\n",
    "\n",
    "esb = EarlyStopping(monitor='val_loss', patience=3, restore_best_weights=True)\n",
    "hist_base = baseline.fit(X_train, y_train, validation_split=0.2, epochs=20, batch_size=64, callbacks=[esb], verbose=1)\n",
    "\n",
    "y_proba_base = baseline.predict(X_test, verbose=0).ravel()\n",
    "y_pred_base = (y_proba_base > 0.5).astype(int)\n",
    "acc_b  = accuracy_score(y_test, y_pred_base)\n",
    "pre_b  = precision_score(y_test, y_pred_base)\n",
    "rec_b  = recall_score(y_test, y_pred_base)\n",
    "f1_b   = f1_score(y_test, y_pred_base)\n",
    "\n",
    "print(f'Baseline -> Acc:{acc_b:.3f} Prec:{pre_b:.3f} Rec:{rec_b:.3f} F1:{f1_b:.3f}')\n"
   ]
  },
  {
   "cell_type": "code",
   "execution_count": 26,
   "id": "2e305215",
   "metadata": {},
   "outputs": [
    {
     "data": {
      "image/png": "[encoded data removed]",
      "text/plain": [
       "<Figure size 1200x400 with 2 Axes>"
      ]
     },
     "metadata": {},
     "output_type": "display_data"
    }
   ],
   "source": [
    "plt.figure(figsize=(12,4))\n",
    "plt.subplot(1,2,1); plt.plot(hist_base.history['val_loss'], label='Baseline'); plt.plot(history.history['val_loss'], label='Hybrid'); plt.title('Val Loss'); plt.xlabel('Epoch'); plt.ylabel('Loss'); plt.legend()\n",
    "plt.subplot(1,2,2); plt.plot(hist_base.history['val_accuracy'], label='Baseline'); plt.plot(history.history['val_accuracy'], label='Hybrid'); plt.title('Val Accuracy'); plt.xlabel('Epoch'); plt.ylabel('Accuracy'); plt.legend()\n",
    "plt.tight_layout(); plt.show()"
   ]
  },
  {
   "cell_type": "markdown",
   "id": "3eae6d94",
   "metadata": {},
   "source": [
    "Modelo Optimizado"
   ]
  },
  {
   "cell_type": "code",
   "execution_count": null,
   "id": "9c4232ff",
   "metadata": {},
   "outputs": [
    {
     "name": "stdout",
     "output_type": "stream",
     "text": [
      "Características extraídas para el conjunto de prueba.\n"
     ]
    },
    {
     "name": "stderr",
     "output_type": "stream",
     "text": [
      "c:\\Users\\Ale\\anaconda3\\Lib\\site-packages\\keras\\src\\layers\\core\\embedding.py:97: UserWarning: Argument `input_length` is deprecated. Just remove it.\n",
      "  warnings.warn(\n"
     ]
    },
    {
     "data": {
      "text/html": [
       "<pre style=\"white-space:pre;overflow-x:auto;line-height:normal;font-family:Menlo,'DejaVu Sans Mono',consolas,'Courier New',monospace\"><span style=\"font-weight: bold\">Model: \"functional\"</span>\n",
       "</pre>\n"
      ],
      "text/plain": [
       "\u001b[1mModel: \"functional\"\u001b[0m\n"
      ]
     },
     "metadata": {},
     "output_type": "display_data"
    },
    {
     "data": {
      "text/html": [
       "<pre style=\"white-space:pre;overflow-x:auto;line-height:normal;font-family:Menlo,'DejaVu Sans Mono',consolas,'Courier New',monospace\">┏━━━━━━━━━━━━━━━━━━━━━┳━━━━━━━━━━━━━━━━━━━┳━━━━━━━━━━━━┳━━━━━━━━━━━━━━━━━━━┓\n",
       "┃<span style=\"font-weight: bold\"> Layer (type)        </span>┃<span style=\"font-weight: bold\"> Output Shape      </span>┃<span style=\"font-weight: bold\">    Param # </span>┃<span style=\"font-weight: bold\"> Connected to      </span>┃\n",
       "┡━━━━━━━━━━━━━━━━━━━━━╇━━━━━━━━━━━━━━━━━━━╇━━━━━━━━━━━━╇━━━━━━━━━━━━━━━━━━━┩\n",
       "│ sequence_input      │ (<span style=\"color: #00d7ff; text-decoration-color: #00d7ff\">None</span>, <span style=\"color: #00af00; text-decoration-color: #00af00\">80</span>)        │          <span style=\"color: #00af00; text-decoration-color: #00af00\">0</span> │ -                 │\n",
       "│ (<span style=\"color: #0087ff; text-decoration-color: #0087ff\">InputLayer</span>)        │                   │            │                   │\n",
       "├─────────────────────┼───────────────────┼────────────┼───────────────────┤\n",
       "│ embedding           │ (<span style=\"color: #00d7ff; text-decoration-color: #00d7ff\">None</span>, <span style=\"color: #00af00; text-decoration-color: #00af00\">80</span>, <span style=\"color: #00af00; text-decoration-color: #00af00\">128</span>)   │  <span style=\"color: #00af00; text-decoration-color: #00af00\">6,400,000</span> │ sequence_input[<span style=\"color: #00af00; text-decoration-color: #00af00\">0</span>… │\n",
       "│ (<span style=\"color: #0087ff; text-decoration-color: #0087ff\">Embedding</span>)         │                   │            │                   │\n",
       "├─────────────────────┼───────────────────┼────────────┼───────────────────┤\n",
       "│ spatial_dropout1d   │ (<span style=\"color: #00d7ff; text-decoration-color: #00d7ff\">None</span>, <span style=\"color: #00af00; text-decoration-color: #00af00\">80</span>, <span style=\"color: #00af00; text-decoration-color: #00af00\">128</span>)   │          <span style=\"color: #00af00; text-decoration-color: #00af00\">0</span> │ embedding[<span style=\"color: #00af00; text-decoration-color: #00af00\">0</span>][<span style=\"color: #00af00; text-decoration-color: #00af00\">0</span>]   │\n",
       "│ (<span style=\"color: #0087ff; text-decoration-color: #0087ff\">SpatialDropout1D</span>)  │                   │            │                   │\n",
       "├─────────────────────┼───────────────────┼────────────┼───────────────────┤\n",
       "│ not_equal           │ (<span style=\"color: #00d7ff; text-decoration-color: #00d7ff\">None</span>, <span style=\"color: #00af00; text-decoration-color: #00af00\">80</span>)        │          <span style=\"color: #00af00; text-decoration-color: #00af00\">0</span> │ sequence_input[<span style=\"color: #00af00; text-decoration-color: #00af00\">0</span>… │\n",
       "│ (<span style=\"color: #0087ff; text-decoration-color: #0087ff\">NotEqual</span>)          │                   │            │                   │\n",
       "├─────────────────────┼───────────────────┼────────────┼───────────────────┤\n",
       "│ bidirectional       │ (<span style=\"color: #00d7ff; text-decoration-color: #00d7ff\">None</span>, <span style=\"color: #00af00; text-decoration-color: #00af00\">80</span>, <span style=\"color: #00af00; text-decoration-color: #00af00\">256</span>)   │    <span style=\"color: #00af00; text-decoration-color: #00af00\">263,168</span> │ spatial_dropout1… │\n",
       "│ (<span style=\"color: #0087ff; text-decoration-color: #0087ff\">Bidirectional</span>)     │                   │            │ not_equal[<span style=\"color: #00af00; text-decoration-color: #00af00\">0</span>][<span style=\"color: #00af00; text-decoration-color: #00af00\">0</span>]   │\n",
       "├─────────────────────┼───────────────────┼────────────┼───────────────────┤\n",
       "│ bidirectional_1     │ (<span style=\"color: #00d7ff; text-decoration-color: #00d7ff\">None</span>, <span style=\"color: #00af00; text-decoration-color: #00af00\">256</span>)       │    <span style=\"color: #00af00; text-decoration-color: #00af00\">394,240</span> │ bidirectional[<span style=\"color: #00af00; text-decoration-color: #00af00\">0</span>]… │\n",
       "│ (<span style=\"color: #0087ff; text-decoration-color: #0087ff\">Bidirectional</span>)     │                   │            │ not_equal[<span style=\"color: #00af00; text-decoration-color: #00af00\">0</span>][<span style=\"color: #00af00; text-decoration-color: #00af00\">0</span>]   │\n",
       "├─────────────────────┼───────────────────┼────────────┼───────────────────┤\n",
       "│ dropout (<span style=\"color: #0087ff; text-decoration-color: #0087ff\">Dropout</span>)   │ (<span style=\"color: #00d7ff; text-decoration-color: #00d7ff\">None</span>, <span style=\"color: #00af00; text-decoration-color: #00af00\">256</span>)       │          <span style=\"color: #00af00; text-decoration-color: #00af00\">0</span> │ bidirectional_1[<span style=\"color: #00af00; text-decoration-color: #00af00\">…</span> │\n",
       "├─────────────────────┼───────────────────┼────────────┼───────────────────┤\n",
       "│ features_input      │ (<span style=\"color: #00d7ff; text-decoration-color: #00d7ff\">None</span>, <span style=\"color: #00af00; text-decoration-color: #00af00\">6</span>)         │          <span style=\"color: #00af00; text-decoration-color: #00af00\">0</span> │ -                 │\n",
       "│ (<span style=\"color: #0087ff; text-decoration-color: #0087ff\">InputLayer</span>)        │                   │            │                   │\n",
       "├─────────────────────┼───────────────────┼────────────┼───────────────────┤\n",
       "│ concatenate         │ (<span style=\"color: #00d7ff; text-decoration-color: #00d7ff\">None</span>, <span style=\"color: #00af00; text-decoration-color: #00af00\">262</span>)       │          <span style=\"color: #00af00; text-decoration-color: #00af00\">0</span> │ dropout[<span style=\"color: #00af00; text-decoration-color: #00af00\">0</span>][<span style=\"color: #00af00; text-decoration-color: #00af00\">0</span>],    │\n",
       "│ (<span style=\"color: #0087ff; text-decoration-color: #0087ff\">Concatenate</span>)       │                   │            │ features_input[<span style=\"color: #00af00; text-decoration-color: #00af00\">0</span>… │\n",
       "├─────────────────────┼───────────────────┼────────────┼───────────────────┤\n",
       "│ dense (<span style=\"color: #0087ff; text-decoration-color: #0087ff\">Dense</span>)       │ (<span style=\"color: #00d7ff; text-decoration-color: #00d7ff\">None</span>, <span style=\"color: #00af00; text-decoration-color: #00af00\">128</span>)       │     <span style=\"color: #00af00; text-decoration-color: #00af00\">33,664</span> │ concatenate[<span style=\"color: #00af00; text-decoration-color: #00af00\">0</span>][<span style=\"color: #00af00; text-decoration-color: #00af00\">0</span>] │\n",
       "├─────────────────────┼───────────────────┼────────────┼───────────────────┤\n",
       "│ dropout_1 (<span style=\"color: #0087ff; text-decoration-color: #0087ff\">Dropout</span>) │ (<span style=\"color: #00d7ff; text-decoration-color: #00d7ff\">None</span>, <span style=\"color: #00af00; text-decoration-color: #00af00\">128</span>)       │          <span style=\"color: #00af00; text-decoration-color: #00af00\">0</span> │ dense[<span style=\"color: #00af00; text-decoration-color: #00af00\">0</span>][<span style=\"color: #00af00; text-decoration-color: #00af00\">0</span>]       │\n",
       "├─────────────────────┼───────────────────┼────────────┼───────────────────┤\n",
       "│ dense_1 (<span style=\"color: #0087ff; text-decoration-color: #0087ff\">Dense</span>)     │ (<span style=\"color: #00d7ff; text-decoration-color: #00d7ff\">None</span>, <span style=\"color: #00af00; text-decoration-color: #00af00\">64</span>)        │      <span style=\"color: #00af00; text-decoration-color: #00af00\">8,256</span> │ dropout_1[<span style=\"color: #00af00; text-decoration-color: #00af00\">0</span>][<span style=\"color: #00af00; text-decoration-color: #00af00\">0</span>]   │\n",
       "├─────────────────────┼───────────────────┼────────────┼───────────────────┤\n",
       "│ dropout_2 (<span style=\"color: #0087ff; text-decoration-color: #0087ff\">Dropout</span>) │ (<span style=\"color: #00d7ff; text-decoration-color: #00d7ff\">None</span>, <span style=\"color: #00af00; text-decoration-color: #00af00\">64</span>)        │          <span style=\"color: #00af00; text-decoration-color: #00af00\">0</span> │ dense_1[<span style=\"color: #00af00; text-decoration-color: #00af00\">0</span>][<span style=\"color: #00af00; text-decoration-color: #00af00\">0</span>]     │\n",
       "├─────────────────────┼───────────────────┼────────────┼───────────────────┤\n",
       "│ dense_2 (<span style=\"color: #0087ff; text-decoration-color: #0087ff\">Dense</span>)     │ (<span style=\"color: #00d7ff; text-decoration-color: #00d7ff\">None</span>, <span style=\"color: #00af00; text-decoration-color: #00af00\">1</span>)         │         <span style=\"color: #00af00; text-decoration-color: #00af00\">65</span> │ dropout_2[<span style=\"color: #00af00; text-decoration-color: #00af00\">0</span>][<span style=\"color: #00af00; text-decoration-color: #00af00\">0</span>]   │\n",
       "└─────────────────────┴───────────────────┴────────────┴───────────────────┘\n",
       "</pre>\n"
      ],
      "text/plain": [
       "┏━━━━━━━━━━━━━━━━━━━━━┳━━━━━━━━━━━━━━━━━━━┳━━━━━━━━━━━━┳━━━━━━━━━━━━━━━━━━━┓\n",
       "┃\u001b[1m \u001b[0m\u001b[1mLayer (type)       \u001b[0m\u001b[1m \u001b[0m┃\u001b[1m \u001b[0m\u001b[1mOutput Shape     \u001b[0m\u001b[1m \u001b[0m┃\u001b[1m \u001b[0m\u001b[1m   Param #\u001b[0m\u001b[1m \u001b[0m┃\u001b[1m \u001b[0m\u001b[1mConnected to     \u001b[0m\u001b[1m \u001b[0m┃\n",
       "┡━━━━━━━━━━━━━━━━━━━━━╇━━━━━━━━━━━━━━━━━━━╇━━━━━━━━━━━━╇━━━━━━━━━━━━━━━━━━━┩\n",
       "│ sequence_input      │ (\u001b[38;5;45mNone\u001b[0m, \u001b[38;5;34m80\u001b[0m)        │          \u001b[38;5;34m0\u001b[0m │ -                 │\n",
       "│ (\u001b[38;5;33mInputLayer\u001b[0m)        │                   │            │                   │\n",
       "├─────────────────────┼───────────────────┼────────────┼───────────────────┤\n",
       "│ embedding           │ (\u001b[38;5;45mNone\u001b[0m, \u001b[38;5;34m80\u001b[0m, \u001b[38;5;34m128\u001b[0m)   │  \u001b[38;5;34m6,400,000\u001b[0m │ sequence_input[\u001b[38;5;34m0\u001b[0m… │\n",
       "│ (\u001b[38;5;33mEmbedding\u001b[0m)         │                   │            │                   │\n",
       "├─────────────────────┼───────────────────┼────────────┼───────────────────┤\n",
       "│ spatial_dropout1d   │ (\u001b[38;5;45mNone\u001b[0m, \u001b[38;5;34m80\u001b[0m, \u001b[38;5;34m128\u001b[0m)   │          \u001b[38;5;34m0\u001b[0m │ embedding[\u001b[38;5;34m0\u001b[0m][\u001b[38;5;34m0\u001b[0m]   │\n",
       "│ (\u001b[38;5;33mSpatialDropout1D\u001b[0m)  │                   │            │                   │\n",
       "├─────────────────────┼───────────────────┼────────────┼───────────────────┤\n",
       "│ not_equal           │ (\u001b[38;5;45mNone\u001b[0m, \u001b[38;5;34m80\u001b[0m)        │          \u001b[38;5;34m0\u001b[0m │ sequence_input[\u001b[38;5;34m0\u001b[0m… │\n",
       "│ (\u001b[38;5;33mNotEqual\u001b[0m)          │                   │            │                   │\n",
       "├─────────────────────┼───────────────────┼────────────┼───────────────────┤\n",
       "│ bidirectional       │ (\u001b[38;5;45mNone\u001b[0m, \u001b[38;5;34m80\u001b[0m, \u001b[38;5;34m256\u001b[0m)   │    \u001b[38;5;34m263,168\u001b[0m │ spatial_dropout1… │\n",
       "│ (\u001b[38;5;33mBidirectional\u001b[0m)     │                   │            │ not_equal[\u001b[38;5;34m0\u001b[0m][\u001b[38;5;34m0\u001b[0m]   │\n",
       "├─────────────────────┼───────────────────┼────────────┼───────────────────┤\n",
       "│ bidirectional_1     │ (\u001b[38;5;45mNone\u001b[0m, \u001b[38;5;34m256\u001b[0m)       │    \u001b[38;5;34m394,240\u001b[0m │ bidirectional[\u001b[38;5;34m0\u001b[0m]… │\n",
       "│ (\u001b[38;5;33mBidirectional\u001b[0m)     │                   │            │ not_equal[\u001b[38;5;34m0\u001b[0m][\u001b[38;5;34m0\u001b[0m]   │\n",
       "├─────────────────────┼───────────────────┼────────────┼───────────────────┤\n",
       "│ dropout (\u001b[38;5;33mDropout\u001b[0m)   │ (\u001b[38;5;45mNone\u001b[0m, \u001b[38;5;34m256\u001b[0m)       │          \u001b[38;5;34m0\u001b[0m │ bidirectional_1[\u001b[38;5;34m…\u001b[0m │\n",
       "├─────────────────────┼───────────────────┼────────────┼───────────────────┤\n",
       "│ features_input      │ (\u001b[38;5;45mNone\u001b[0m, \u001b[38;5;34m6\u001b[0m)         │          \u001b[38;5;34m0\u001b[0m │ -                 │\n",
       "│ (\u001b[38;5;33mInputLayer\u001b[0m)        │                   │            │                   │\n",
       "├─────────────────────┼───────────────────┼────────────┼───────────────────┤\n",
       "│ concatenate         │ (\u001b[38;5;45mNone\u001b[0m, \u001b[38;5;34m262\u001b[0m)       │          \u001b[38;5;34m0\u001b[0m │ dropout[\u001b[38;5;34m0\u001b[0m][\u001b[38;5;34m0\u001b[0m],    │\n",
       "│ (\u001b[38;5;33mConcatenate\u001b[0m)       │                   │            │ features_input[\u001b[38;5;34m0\u001b[0m… │\n",
       "├─────────────────────┼───────────────────┼────────────┼───────────────────┤\n",
       "│ dense (\u001b[38;5;33mDense\u001b[0m)       │ (\u001b[38;5;45mNone\u001b[0m, \u001b[38;5;34m128\u001b[0m)       │     \u001b[38;5;34m33,664\u001b[0m │ concatenate[\u001b[38;5;34m0\u001b[0m][\u001b[38;5;34m0\u001b[0m] │\n",
       "├─────────────────────┼───────────────────┼────────────┼───────────────────┤\n",
       "│ dropout_1 (\u001b[38;5;33mDropout\u001b[0m) │ (\u001b[38;5;45mNone\u001b[0m, \u001b[38;5;34m128\u001b[0m)       │          \u001b[38;5;34m0\u001b[0m │ dense[\u001b[38;5;34m0\u001b[0m][\u001b[38;5;34m0\u001b[0m]       │\n",
       "├─────────────────────┼───────────────────┼────────────┼───────────────────┤\n",
       "│ dense_1 (\u001b[38;5;33mDense\u001b[0m)     │ (\u001b[38;5;45mNone\u001b[0m, \u001b[38;5;34m64\u001b[0m)        │      \u001b[38;5;34m8,256\u001b[0m │ dropout_1[\u001b[38;5;34m0\u001b[0m][\u001b[38;5;34m0\u001b[0m]   │\n",
       "├─────────────────────┼───────────────────┼────────────┼───────────────────┤\n",
       "│ dropout_2 (\u001b[38;5;33mDropout\u001b[0m) │ (\u001b[38;5;45mNone\u001b[0m, \u001b[38;5;34m64\u001b[0m)        │          \u001b[38;5;34m0\u001b[0m │ dense_1[\u001b[38;5;34m0\u001b[0m][\u001b[38;5;34m0\u001b[0m]     │\n",
       "├─────────────────────┼───────────────────┼────────────┼───────────────────┤\n",
       "│ dense_2 (\u001b[38;5;33mDense\u001b[0m)     │ (\u001b[38;5;45mNone\u001b[0m, \u001b[38;5;34m1\u001b[0m)         │         \u001b[38;5;34m65\u001b[0m │ dropout_2[\u001b[38;5;34m0\u001b[0m][\u001b[38;5;34m0\u001b[0m]   │\n",
       "└─────────────────────┴───────────────────┴────────────┴───────────────────┘\n"
      ]
     },
     "metadata": {},
     "output_type": "display_data"
    },
    {
     "data": {
      "text/html": [
       "<pre style=\"white-space:pre;overflow-x:auto;line-height:normal;font-family:Menlo,'DejaVu Sans Mono',consolas,'Courier New',monospace\"><span style=\"font-weight: bold\"> Total params: </span><span style=\"color: #00af00; text-decoration-color: #00af00\">7,099,393</span> (27.08 MB)\n",
       "</pre>\n"
      ],
      "text/plain": [
       "\u001b[1m Total params: \u001b[0m\u001b[38;5;34m7,099,393\u001b[0m (27.08 MB)\n"
      ]
     },
     "metadata": {},
     "output_type": "display_data"
    },
    {
     "data": {
      "text/html": [
       "<pre style=\"white-space:pre;overflow-x:auto;line-height:normal;font-family:Menlo,'DejaVu Sans Mono',consolas,'Courier New',monospace\"><span style=\"font-weight: bold\"> Trainable params: </span><span style=\"color: #00af00; text-decoration-color: #00af00\">7,099,393</span> (27.08 MB)\n",
       "</pre>\n"
      ],
      "text/plain": [
       "\u001b[1m Trainable params: \u001b[0m\u001b[38;5;34m7,099,393\u001b[0m (27.08 MB)\n"
      ]
     },
     "metadata": {},
     "output_type": "display_data"
    },
    {
     "data": {
      "text/html": [
       "<pre style=\"white-space:pre;overflow-x:auto;line-height:normal;font-family:Menlo,'DejaVu Sans Mono',consolas,'Courier New',monospace\"><span style=\"font-weight: bold\"> Non-trainable params: </span><span style=\"color: #00af00; text-decoration-color: #00af00\">0</span> (0.00 B)\n",
       "</pre>\n"
      ],
      "text/plain": [
       "\u001b[1m Non-trainable params: \u001b[0m\u001b[38;5;34m0\u001b[0m (0.00 B)\n"
      ]
     },
     "metadata": {},
     "output_type": "display_data"
    },
    {
     "name": "stdout",
     "output_type": "stream",
     "text": [
      "Epoch 1/20\n",
      "\u001b[1m313/313\u001b[0m \u001b[32m━━━━━━━━━━━━━━━━━━━━\u001b[0m\u001b[37m\u001b[0m \u001b[1m396s\u001b[0m 1s/step - accuracy: 0.7739 - loss: 0.4664 - val_accuracy: 0.8458 - val_loss: 0.3515 - learning_rate: 0.0010\n",
      "Epoch 2/20\n",
      "\u001b[1m313/313\u001b[0m \u001b[32m━━━━━━━━━━━━━━━━━━━━\u001b[0m\u001b[37m\u001b[0m \u001b[1m419s\u001b[0m 1s/step - accuracy: 0.8963 - loss: 0.2650 - val_accuracy: 0.8452 - val_loss: 0.3891 - learning_rate: 0.0010\n",
      "Epoch 3/20\n",
      "\u001b[1m313/313\u001b[0m \u001b[32m━━━━━━━━━━━━━━━━━━━━\u001b[0m\u001b[37m\u001b[0m \u001b[1m406s\u001b[0m 1s/step - accuracy: 0.9434 - loss: 0.1593 - val_accuracy: 0.8274 - val_loss: 0.5474 - learning_rate: 0.0010\n",
      "Epoch 4/20\n",
      "\u001b[1m313/313\u001b[0m \u001b[32m━━━━━━━━━━━━━━━━━━━━\u001b[0m\u001b[37m\u001b[0m \u001b[1m394s\u001b[0m 1s/step - accuracy: 0.9754 - loss: 0.0704 - val_accuracy: 0.8336 - val_loss: 0.6984 - learning_rate: 5.0000e-04\n",
      "Accuracy: 0.8379\n",
      "Precision: 0.8408\n",
      "Recall: 0.8336\n",
      "F1-Score: 0.8372\n"
     ]
    },
    {
     "data": {
      "image/png": "[encoded data removed]",
      "text/plain": [
       "<Figure size 1200x400 with 2 Axes>"
      ]
     },
     "metadata": {},
     "output_type": "display_data"
    }
   ],
   "source": [
    "\n",
    "#Extraer características para el conjunto de prueba \n",
    "test_features = extract_features_from_encoded(X_test)\n",
    "test_features_array = np.array([[f[name] for name in feature_names] for f in test_features])\n",
    "print('Características extraídas para el conjunto de prueba.')\n",
    "\n",
    "tf.random.set_seed(42); np.random.seed(42)\n",
    "\n",
    "scaler = StandardScaler()\n",
    "train_features_scaled = scaler.fit_transform(train_features_array)\n",
    "test_features_scaled = scaler.transform(test_features_array)\n",
    "\n",
    "vocab_size = vocab_size if 'vocab_size' in globals() else 50000\n",
    "embedding_dim = embedding_dim if 'embedding_dim' in globals() else 128\n",
    "lstm_units = lstm_units if 'lstm_units' in globals() else 128\n",
    "\n",
    "# Entradas\n",
    "input_seq = Input(shape=(maxlen,), name='sequence_input')\n",
    "input_features = Input(shape=(len(feature_names),), name='features_input')\n",
    "\n",
    "# Encoder LSTM mejorado\n",
    "x = Embedding(vocab_size, embedding_dim, input_length=maxlen, mask_zero=True)(input_seq)\n",
    "x = SpatialDropout1D(0.2)(x)\n",
    "x = Bidirectional(LSTM(lstm_units, return_sequences=True, dropout=0.2, recurrent_dropout=0.2))(x)\n",
    "x = Bidirectional(LSTM(lstm_units, dropout=0.2, recurrent_dropout=0.2))(x)\n",
    "x = Dropout(0.3)(x)\n",
    "\n",
    "# Fusionar con features\n",
    "combined = Concatenate()([x, input_features])\n",
    "h = Dense(128, activation='relu')(combined)\n",
    "h = Dropout(0.3)(h)\n",
    "h = Dense(64, activation='relu')(h)\n",
    "h = Dropout(0.3)(h)\n",
    "output = Dense(1, activation='sigmoid')(h)\n",
    "\n",
    "model = Model(inputs=[input_seq, input_features], outputs=output)\n",
    "model.compile(optimizer=Adam(1e-3), loss='binary_crossentropy', metrics=['accuracy'])\n",
    "model.summary()\n",
    "\n",
    "# Callbacks\n",
    "early_stopping = EarlyStopping(monitor='val_loss', patience=3, restore_best_weights=True)\n",
    "ckpt = ModelCheckpoint('best_hybrid.keras', monitor='val_loss', save_best_only=True)\n",
    "rlrop = ReduceLROnPlateau(monitor='val_loss', factor=0.5, patience=2)\n",
    "\n",
    "# Entrenamiento\n",
    "history = model.fit(\n",
    "    [X_train, train_features_scaled], y_train,\n",
    "    validation_split=0.2,\n",
    "    epochs=20,\n",
    "    batch_size=64,\n",
    "    callbacks=[early_stopping, ckpt, rlrop],\n",
    "    verbose=1\n",
    ")\n",
    "\n",
    "# Evaluación\n",
    "y_pred_prob = model.predict([X_test, test_features_scaled], verbose=0).ravel()\n",
    "y_pred = (y_pred_prob > 0.5).astype(int)\n",
    "\n",
    "accuracy = accuracy_score(y_test, y_pred)\n",
    "precision = precision_score(y_test, y_pred)\n",
    "recall = recall_score(y_test, y_pred)\n",
    "f1 = f1_score(y_test, y_pred)\n",
    "\n",
    "print(f'Accuracy: {accuracy:.4f}')\n",
    "print(f'Precision: {precision:.4f}')\n",
    "print(f'Recall: {recall:.4f}')\n",
    "print(f'F1-Score: {f1:.4f}')\n",
    "\n",
    "plt.figure(figsize=(12, 4))\n",
    "\n",
    "plt.subplot(1, 2, 1)\n",
    "plt.plot(history.history['loss'], label='Train')\n",
    "plt.plot(history.history['val_loss'], label='Val')\n",
    "plt.title('Loss'); plt.xlabel('Epoch'); plt.ylabel('Loss'); plt.legend()\n",
    "\n",
    "plt.subplot(1, 2, 2)\n",
    "plt.plot(history.history['accuracy'], label='Train')\n",
    "plt.plot(history.history['val_accuracy'], label='Val')\n",
    "plt.title('Accuracy'); plt.xlabel('Epoch'); plt.ylabel('Accuracy'); plt.legend()\n",
    "\n",
    "plt.tight_layout()\n",
    "plt.show()"
   ]
  },
  {
   "cell_type": "code",
   "execution_count": 27,
   "id": "933f8aa9",
   "metadata": {},
   "outputs": [
    {
     "name": "stdout",
     "output_type": "stream",
     "text": [
      "  Modelo  Accuracy  Precision  Recall       F1\n",
      "Baseline   0.83940   0.829310 0.85472 0.841823\n",
      "  Hybrid   0.83788   0.840797 0.83360 0.837183\n"
     ]
    }
   ],
   "source": [
    "\n",
    "tabla = pd.DataFrame([\n",
    "    [\"Baseline\", float(acc_b),   float(pre_b),     float(rec_b),   float(f1_b)],\n",
    "    [\"Hybrid\",  float(accuracy), float(precision), float(recall), float(f1)],\n",
    "], columns=[\"Modelo\",\"Accuracy\",\"Precision\",\"Recall\",\"F1\"])\n",
    "print(tabla.to_string(index=False))\n",
    "\n"
   ]
  },
  {
   "cell_type": "markdown",
   "id": "051a46da",
   "metadata": {},
   "source": [
    "### **Análisis y Resultados**"
   ]
  },
  {
   "cell_type": "markdown",
   "id": "b6832e2c",
   "metadata": {},
   "source": [
    "Para presentar los resultados, comparamos dos enfoques entrenados con la misma partición y configuración; un modelo base “simple” (Embedding + BiLSTM + sigmoide) y un modelo híbrido que toma el texto con BiLSTM apiladas (con dropout) y lo fusiona con un vector de features normalizadas antes de las capas densas. Las curvas de entrenamiento mostraron sobreajuste temprano, así que usamos early stopping con restauración de los mejores pesos; el mejor punto del híbrido fue en la época 0 según la val_loss.\n",
    "\n",
    "En prueba, el baseline obtuvo **Accuracy** = 0.839, **Precision** = 0.829, **Recall** = 0.855 y **F1** = 0.842; el híbrido logró **Accuracy** = 0.838, **Precision** = 0.841, **Recall** = 0.834 y **F1** = 0.837. En la práctica, hay un empate en accuracy, con más precisión del híbrido (+0.012) y más recall del baseline (+0.021), lo que explica el F1 ligeramente superior del baseline (+0.005).\n",
    "\n",
    "Esta comparación deja un trade-off claro, puesto que las features adicionales del híbrido parecen ayudar a reducir falsos positivos (sube la precisión), pero a costa de perder algunos verdaderos positivos (baja el recall). El baseline hace el movimiento opuesto. Por eso, si la prioridad es evitar falsos positivos, el híbrido es la mejor elección. Por otro lado, si lo más importante es capturar la mayor cantidad de positivos, el baseline rinde mejor.\n",
    "\n",
    "Ambos modelos son competitivos y la elección depende del objetivo. Sin volver a entrenar, se puede ajustar el umbral de decisión con la validación para maximizar la métrica objetivo (por ejemplo, F1) y, si se busca más generalización, reforzar un poco la regularización (más dropout o L2) para contener el sobreajuste observado."
   ]
  }
 ],
 "metadata": {
  "kernelspec": {
   "display_name": "base",
   "language": "python",
   "name": "python3"
  },
  "language_info": {
   "codemirror_mode": {
    "name": "ipython",
    "version": 3
   },
   "file_extension": ".py",
   "mimetype": "text/x-python",
   "name": "python",
   "nbconvert_exporter": "python",
   "pygments_lexer": "ipython3",
   "version": "3.11.7"
  }
 },
 "nbformat": 4,
 "nbformat_minor": 5
}
